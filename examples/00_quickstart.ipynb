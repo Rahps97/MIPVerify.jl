{
 "cells": [
  {
   "cell_type": "markdown",
   "metadata": {},
   "source": [
    "# Quickstart\n",
    "\n",
    "This notebook demonstrates how you can find adversarial examples for a pre-trained example network on the MNIST dataset.\n",
    "\n",
    "We suggest having the `Gurobi` solver installed, since its performance is significantly faster. If this is not possible, the `Cbc` solver is another option.\n",
    "\n",
    "The `Images` package is only necessary for visualizing the sample images."
   ]
  },
  {
   "cell_type": "code",
   "execution_count": 1,
   "metadata": {},
   "outputs": [],
   "source": [
    "using MIPVerify\n",
    "using Cbc\n",
    "using Images"
   ]
  },
  {
   "cell_type": "markdown",
   "metadata": {},
   "source": [
    "## Setup\n",
    "\n",
    "### MNIST dataset\n",
    "\n",
    "We begin by loading the MNIST dataset. The data is provided as a Julia `struct` for easy access. The training images and test images are provided as a 4-dimensional array of size `(num_samples, height, width, num_channels)`."
   ]
  },
  {
   "cell_type": "code",
   "execution_count": 2,
   "metadata": {},
   "outputs": [
    {
     "data": {
      "text/plain": [
       "mnist:\n",
       "  `train`: {LabelledImageDataset}\n",
       "    `images`: 60000 images of size (28, 28, 1), with pixels in [0.0, 1.0].\n",
       "    `labels`: 60000 corresponding labels, with 10 unique labels in [0, 9].\n",
       "  `test`: {LabelledImageDataset}\n",
       "    `images`: 10000 images of size (28, 28, 1), with pixels in [0.0, 1.0].\n",
       "    `labels`: 10000 corresponding labels, with 10 unique labels in [0, 9]."
      ]
     },
     "execution_count": 2,
     "metadata": {},
     "output_type": "execute_result"
    }
   ],
   "source": [
    "mnist = MIPVerify.read_datasets(\"MNIST\")"
   ]
  },
  {
   "cell_type": "code",
   "execution_count": 3,
   "metadata": {},
   "outputs": [
    {
     "data": {
      "text/plain": [
       "{LabelledImageDataset}\n",
       "    `images`: 60000 images of size (28, 28, 1), with pixels in [0.0, 1.0].\n",
       "    `labels`: 60000 corresponding labels, with 10 unique labels in [0, 9]."
      ]
     },
     "execution_count": 3,
     "metadata": {},
     "output_type": "execute_result"
    }
   ],
   "source": [
    "mnist.train"
   ]
  },
  {
   "cell_type": "code",
   "execution_count": 4,
   "metadata": {},
   "outputs": [
    {
     "data": {
      "text/plain": [
       "(60000, 28, 28, 1)"
      ]
     },
     "execution_count": 4,
     "metadata": {},
     "output_type": "execute_result"
    }
   ],
   "source": [
    "size(mnist.train.images)"
   ]
  },
  {
   "cell_type": "code",
   "execution_count": 5,
   "metadata": {},
   "outputs": [
    {
     "data": {
      "text/plain": [
       "60000-element Vector{UInt8}:\n",
       " 0x05\n",
       " 0x00\n",
       " 0x04\n",
       " 0x01\n",
       " 0x09\n",
       " 0x02\n",
       " 0x01\n",
       " 0x03\n",
       " 0x01\n",
       " 0x04\n",
       " 0x03\n",
       " 0x05\n",
       " 0x03\n",
       "    ⋮\n",
       " 0x07\n",
       " 0x08\n",
       " 0x09\n",
       " 0x02\n",
       " 0x09\n",
       " 0x05\n",
       " 0x01\n",
       " 0x08\n",
       " 0x03\n",
       " 0x05\n",
       " 0x06\n",
       " 0x08"
      ]
     },
     "execution_count": 5,
     "metadata": {},
     "output_type": "execute_result"
    }
   ],
   "source": [
    "mnist.train.labels"
   ]
  },
  {
   "cell_type": "markdown",
   "metadata": {},
   "source": [
    "### Sample Neural Network\n",
    "\n",
    "We import a sample pre-trained neural network. "
   ]
  },
  {
   "cell_type": "code",
   "execution_count": 6,
   "metadata": {},
   "outputs": [
    {
     "data": {
      "text/plain": [
       "sequential net MNIST.n1\n",
       "  (1) Flatten(): flattens 4 dimensional input, with dimensions permuted according to the order [4, 3, 2, 1]\n",
       "  (2) Linear(784 -> 40)\n",
       "  (3) ReLU()\n",
       "  (4) Linear(40 -> 20)\n",
       "  (5) ReLU()\n",
       "  (6) Linear(20 -> 10)\n"
      ]
     },
     "execution_count": 6,
     "metadata": {},
     "output_type": "execute_result"
    }
   ],
   "source": [
    "n1 = MIPVerify.get_example_network_params(\"MNIST.n1\")"
   ]
  },
  {
   "cell_type": "markdown",
   "metadata": {},
   "source": [
    "`MIPVerify.frac_correct` allows us to verify that the network has a reasonable accuracy on the test set of 96.95%. (This step is crucial when working with your own neural net parameters; since the training is done outside of Julia, a common mistake is to transfer the parameters incorrectly.)"
   ]
  },
  {
   "cell_type": "code",
   "execution_count": 7,
   "metadata": {},
   "outputs": [
    {
     "name": "stderr",
     "output_type": "stream",
     "text": [
      "\u001b[32mComputing fraction correct...100%|██████████████████████| Time: 0:00:02\u001b[39m\n"
     ]
    },
    {
     "data": {
      "text/plain": [
       "0.9695"
      ]
     },
     "execution_count": 7,
     "metadata": {},
     "output_type": "execute_result"
    }
   ],
   "source": [
    "MIPVerify.frac_correct(n1, mnist.test, 10000)"
   ]
  },
  {
   "cell_type": "markdown",
   "metadata": {},
   "source": [
    "We feed the first image into the neural net, obtaining the activations of the final softmax layer. \n",
    "\n",
    "Note that the image must be specified as a 4-dimensional array with size `(1, height, width, num_channels)`. We provide a helper function `MIPVerify.get_image` that extracts the image from the dataset while preserving all four dimensions."
   ]
  },
  {
   "cell_type": "code",
   "execution_count": 8,
   "metadata": {},
   "outputs": [
    {
     "data": {
      "text/plain": [
       "1×28×28×1 Array{Float64, 4}:\n",
       "[:, :, 1, 1] =\n",
       " 0.0  0.0  0.0  0.0  0.0  0.0  0.0  0.0  …  0.0  0.0  0.0  0.0  0.0  0.0  0.0\n",
       "\n",
       "[:, :, 2, 1] =\n",
       " 0.0  0.0  0.0  0.0  0.0  0.0  0.0  0.0  …  0.0  0.0  0.0  0.0  0.0  0.0  0.0\n",
       "\n",
       "[:, :, 3, 1] =\n",
       " 0.0  0.0  0.0  0.0  0.0  0.0  0.0  0.0  …  0.0  0.0  0.0  0.0  0.0  0.0  0.0\n",
       "\n",
       ";;; … \n",
       "\n",
       "[:, :, 26, 1] =\n",
       " 0.0  0.0  0.0  0.0  0.0  0.0  0.0  0.0  …  0.0  0.0  0.0  0.0  0.0  0.0  0.0\n",
       "\n",
       "[:, :, 27, 1] =\n",
       " 0.0  0.0  0.0  0.0  0.0  0.0  0.0  0.0  …  0.0  0.0  0.0  0.0  0.0  0.0  0.0\n",
       "\n",
       "[:, :, 28, 1] =\n",
       " 0.0  0.0  0.0  0.0  0.0  0.0  0.0  0.0  …  0.0  0.0  0.0  0.0  0.0  0.0  0.0"
      ]
     },
     "execution_count": 8,
     "metadata": {},
     "output_type": "execute_result"
    }
   ],
   "source": [
    "sample_image = MIPVerify.get_image(mnist.test.images, 1)"
   ]
  },
  {
   "cell_type": "code",
   "execution_count": 9,
   "metadata": {},
   "outputs": [
    {
     "data": {
      "text/plain": [
       "10-element Vector{Float64}:\n",
       " -0.02074390040759505\n",
       " -0.017499541361042703\n",
       "  0.16707187742051954\n",
       " -0.05323712887827292\n",
       " -0.019291011852467455\n",
       " -0.07951546424946399\n",
       "  0.06191130931372918\n",
       "  4.833970937815984\n",
       "  0.46706000134294867\n",
       "  0.40145201599055125"
      ]
     },
     "execution_count": 9,
     "metadata": {},
     "output_type": "execute_result"
    }
   ],
   "source": [
    "output_activations = sample_image |> n1"
   ]
  },
  {
   "cell_type": "markdown",
   "metadata": {},
   "source": [
    "The category that has the largest activation is category 8, corresponding to a label of 7."
   ]
  },
  {
   "cell_type": "code",
   "execution_count": 10,
   "metadata": {},
   "outputs": [
    {
     "data": {
      "text/plain": [
       "7"
      ]
     },
     "execution_count": 10,
     "metadata": {},
     "output_type": "execute_result"
    }
   ],
   "source": [
    "(output_activations |> MIPVerify.get_max_index) - 1"
   ]
  },
  {
   "cell_type": "markdown",
   "metadata": {},
   "source": [
    "This matches the true label."
   ]
  },
  {
   "cell_type": "code",
   "execution_count": 11,
   "metadata": {},
   "outputs": [
    {
     "data": {
      "text/plain": [
       "7"
      ]
     },
     "execution_count": 11,
     "metadata": {},
     "output_type": "execute_result"
    }
   ],
   "source": [
    "MIPVerify.get_label(mnist.test.labels, 1)"
   ]
  },
  {
   "cell_type": "markdown",
   "metadata": {},
   "source": [
    "## Finding an Adversarial Example\n",
    "\n",
    "We now try to find the closest $L_infty$ norm adversarial example to the first image, setting the target category as index `10` (corresponding to a true label of 9). Note that we restrict the search space to a distance of `0.05` around the original image via the specified `pp`."
   ]
  },
  {
   "cell_type": "code",
   "execution_count": 12,
   "metadata": {},
   "outputs": [
    {
     "name": "stdout",
     "output_type": "stream",
     "text": [
      "\u001b[36m[notice | MIPVerify]: Attempting to find adversarial example. Neural net predicted label is 8, target labels are [10]\u001b[39m\n",
      "\u001b[36m[notice | MIPVerify]: Determining upper and lower bounds for the input to each non-linear unit.\u001b[39m\n"
     ]
    },
    {
     "name": "stderr",
     "output_type": "stream",
     "text": [
      "\u001b[32m  Calculating upper bounds: 100%|███████████████████████| Time: 0:00:00\u001b[39m\n",
      "\u001b[32m  Calculating lower bounds: 100%|███████████████████████| Time: 0:00:00\u001b[39m\n",
      "\u001b[32m  Imposing relu constraint: 100%|███████████████████████| Time: 0:00:00\u001b[39m\n",
      "\u001b[32m  Calculating upper bounds: 100%|███████████████████████| Time: 0:01:02\u001b[39m\n",
      "\u001b[32m  Calculating lower bounds: 100%|███████████████████████| Time: 0:01:10\u001b[39m\n"
     ]
    },
    {
     "name": "stdout",
     "output_type": "stream",
     "text": [
      "Welcome to the CBC MILP Solver \n",
      "Version: 2.10.5 \n",
      "Build Date: Dec  4 2021 \n",
      "\n",
      "command line - Cbc_C_Interface -solve -quit (default strategy 1)\n",
      "Continuous objective value is 0 - 0.08 seconds\n",
      "Cgl0004I processed model has 1782 rows, 1629 columns (30 integer (30 of which binary)) and 51130 elements\n",
      "Cbc0038I Initial state - 19 integers unsatisfied sum - 5.56088\n",
      "Cbc0038I Pass   1: suminf.    0.48013 (3) obj. 0.05 iterations 1498\n",
      "Cbc0038I Pass   2: suminf.    0.18217 (2) obj. 0.05 iterations 357\n",
      "Cbc0038I Pass   3: suminf.    0.35648 (3) obj. 0.05 iterations 705\n",
      "Cbc0038I Pass   4: suminf.    0.34748 (3) obj. 0.05 iterations 80\n",
      "Cbc0038I Pass   5: suminf.    0.12292 (1) obj. 0.05 iterations 1546\n",
      "Cbc0038I Pass   6: suminf.    0.01536 (1) obj. 0.05 iterations 457\n",
      "Cbc0038I Pass   7: suminf.    0.71395 (3) obj. 0.05 iterations 649\n",
      "Cbc0038I Pass   8: suminf.    0.16780 (1) obj. 0.05 iterations 1176\n",
      "Cbc0038I Pass   9: suminf.    0.00064 (1) obj. 0.05 iterations 590\n",
      "Cbc0038I Pass  10: suminf.    0.00064 (1) obj. 0.05 iterations 0\n",
      "Cbc0038I Pass  11: suminf.    0.45333 (4) obj. 0.05 iterations 817\n",
      "Cbc0038I Pass  12: suminf.    0.14356 (3) obj. 0.05 iterations 236\n",
      "Cbc0038I Pass  13: suminf.    0.12292 (1) obj. 0.05 iterations 1511\n",
      "Cbc0038I Pass  14: suminf.    0.01536 (1) obj. 0.05 iterations 467\n",
      "Cbc0038I Pass  15: suminf.    0.01536 (1) obj. 0.05 iterations 1\n",
      "Cbc0038I Pass  16: suminf.    0.12292 (1) obj. 0.05 iterations 722\n",
      "Cbc0038I Pass  17: suminf.    0.01536 (1) obj. 0.05 iterations 316\n",
      "Cbc0038I Pass  18: suminf.    1.66318 (9) obj. 0.05 iterations 552\n",
      "Cbc0038I Pass  19: suminf.    1.34005 (8) obj. 0.05 iterations 131\n",
      "Cbc0038I Pass  20: suminf.    0.07720 (1) obj. 0.05 iterations 1523\n",
      "Cbc0038I Pass  21: suminf.    0.02893 (1) obj. 0.05 iterations 223\n",
      "Cbc0038I Pass  22: suminf.    1.37029 (7) obj. 0.05 iterations 545\n",
      "Cbc0038I Pass  23: suminf.    0.09954 (1) obj. 0.05 iterations 1300\n",
      "Cbc0038I Pass  24: suminf.    0.02039 (1) obj. 0.05 iterations 307\n",
      "Cbc0038I Pass  25: suminf.    1.17906 (7) obj. 0.05 iterations 676\n",
      "Cbc0038I Pass  26: suminf.    0.28520 (1) obj. 0.05 iterations 1612\n",
      "Cbc0038I Pass  27: suminf.    0.00000 (0) obj. 0.05 iterations 549\n",
      "Cbc0038I Solution found of 0.05\n",
      "Cbc0038I Relaxing continuous gives 0.0462748\n",
      "Cbc0038I Before mini branch and bound, 3 integers at bound fixed and 185 continuous\n",
      "Cbc0038I Full problem 1782 rows 1629 columns, reduced to 1585 rows 1425 columns - 1 fixed gives 1584, 1424 - still too large\n",
      "Cbc0038I Mini branch and bound did not improve solution (1.63 seconds)\n",
      "Cbc0038I Round again with cutoff of 0.0416384\n",
      "Cbc0038I Pass  28: suminf.    0.45151 (3) obj. 0.0416384 iterations 442\n",
      "Cbc0038I Pass  29: suminf.    0.23109 (3) obj. 0.0416384 iterations 113\n",
      "Cbc0038I Pass  30: suminf.    0.43300 (3) obj. 0.0416384 iterations 263\n",
      "Cbc0038I Pass  31: suminf.    0.42360 (3) obj. 0.0416384 iterations 50\n",
      "Cbc0038I Pass  32: suminf.    0.07373 (1) obj. 0.0416384 iterations 995\n",
      "Cbc0038I Pass  33: suminf.    0.03586 (1) obj. 0.0416384 iterations 187\n",
      "Cbc0038I Pass  34: suminf.    1.03917 (7) obj. 0.0416384 iterations 458\n",
      "Cbc0038I Pass  35: suminf.    0.10231 (1) obj. 0.0416384 iterations 995\n",
      "Cbc0038I Pass  36: suminf.    0.02452 (1) obj. 0.0416384 iterations 283\n",
      "Cbc0038I Pass  37: suminf.    0.85140 (4) obj. 0.0416384 iterations 385\n",
      "Cbc0038I Pass  38: suminf.    0.17504 (1) obj. 0.0416384 iterations 714\n",
      "Cbc0038I Pass  39: suminf.    0.02452 (1) obj. 0.0416384 iterations 318\n",
      "Cbc0038I Pass  40: suminf.    1.32486 (5) obj. 0.0416384 iterations 740\n",
      "Cbc0038I Pass  41: suminf.    0.98413 (4) obj. 0.0416384 iterations 91\n",
      "Cbc0038I Pass  42: suminf.    0.18774 (1) obj. 0.0416384 iterations 887\n",
      "Cbc0038I Pass  43: suminf.    0.02353 (1) obj. 0.0416384 iterations 339\n",
      "Cbc0038I Pass  44: suminf.    1.21371 (5) obj. 0.0416384 iterations 320\n",
      "Cbc0038I Pass  45: suminf.    0.85018 (4) obj. 0.0416384 iterations 76\n",
      "Cbc0038I Pass  46: suminf.    0.18921 (1) obj. 0.0416384 iterations 633\n",
      "Cbc0038I Pass  47: suminf.    0.02353 (1) obj. 0.0416384 iterations 333\n",
      "Cbc0038I Pass  48: suminf.    1.82182 (7) obj. 0.0416384 iterations 444\n",
      "Cbc0038I Pass  49: suminf.    0.11006 (1) obj. 0.0416384 iterations 784\n",
      "Cbc0038I Pass  50: suminf.    0.03462 (1) obj. 0.0416384 iterations 196\n",
      "Cbc0038I Pass  51: suminf.    1.07653 (5) obj. 0.0416384 iterations 455\n",
      "Cbc0038I Pass  52: suminf.    0.32121 (3) obj. 0.0416384 iterations 169\n",
      "Cbc0038I Pass  53: suminf.    0.18921 (1) obj. 0.0416384 iterations 1008\n",
      "Cbc0038I Pass  54: suminf.    0.02353 (1) obj. 0.0416384 iterations 283\n",
      "Cbc0038I Pass  55: suminf.    1.54681 (6) obj. 0.0416384 iterations 386\n",
      "Cbc0038I Pass  56: suminf.    1.19466 (5) obj. 0.0416384 iterations 89\n",
      "Cbc0038I Pass  57: suminf.    0.17504 (1) obj. 0.0416384 iterations 668\n",
      "Cbc0038I No solution found this major pass\n",
      "Cbc0038I Before mini branch and bound, 3 integers at bound fixed and 164 continuous\n",
      "Cbc0038I Full problem 1782 rows 1629 columns, reduced to 1546 rows 1387 columns - 3 fixed gives 1543, 1384 - still too large\n",
      "Cbc0038I Mini branch and bound did not improve solution (3.65 seconds)\n",
      "Cbc0038I After 3.65 seconds - Feasibility pump exiting with objective of 0.0462748 - took 3.50 seconds\n",
      "Cbc0012I Integer solution of 0.046274835 found by feasibility pump after 0 iterations and 0 nodes (3.71 seconds)\n",
      "Cbc0038I Full problem 1782 rows 1629 columns, reduced to 1767 rows 1607 columns - 9 fixed gives 1758, 1598 - still too large\n",
      "Cbc0031I 17 added rows had average density of 359.41176\n",
      "Cbc0013I At root node, 17 cuts changed objective from 0 to 0.0058901326 in 11 passes\n",
      "Cbc0014I Cut generator 0 (Probing) - 0 row cuts average 0.0 elements, 0 column cuts (0 active)  in 0.005 seconds - new frequency is -100\n",
      "Cbc0014I Cut generator 1 (Gomory) - 3 row cuts average 488.3 elements, 0 column cuts (0 active)  in 0.057 seconds - new frequency is -100\n",
      "Cbc0014I Cut generator 2 (Knapsack) - 0 row cuts average 0.0 elements, 0 column cuts (0 active)  in 0.014 seconds - new frequency is -100\n",
      "Cbc0014I Cut generator 3 (Clique) - 0 row cuts average 0.0 elements, 0 column cuts (0 active)  in 0.000 seconds - new frequency is -100\n",
      "Cbc0014I Cut generator 4 (MixedIntegerRounding2) - 98 row cuts average 367.6 elements, 0 column cuts (0 active)  in 0.043 seconds - new frequency is 1\n",
      "Cbc0014I Cut generator 5 (FlowCover) - 0 row cuts average 0.0 elements, 0 column cuts (0 active)  in 0.026 seconds - new frequency is -100\n",
      "Cbc0014I Cut generator 6 (TwoMirCuts) - 12 row cuts average 339.8 elements, 0 column cuts (0 active)  in 0.043 seconds - new frequency is 1\n",
      "Cbc0010I After 0 nodes, 1 on tree, 0.046274835 best solution, best possible 0.0058901326 (5.79 seconds)\n",
      "Cbc0012I Integer solution of 0.046084682 found by rounding after 10125 iterations and 35 nodes (15.65 seconds)\n",
      "Cbc0038I Full problem 1782 rows 1629 columns, reduced to 1765 rows 1607 columns - 4 fixed gives 1761, 1603 - still too large\n",
      "Cbc0001I Search completed - best objective 0.04608468158892236, took 14823 iterations and 61 nodes (18.43 seconds)\n",
      "Cbc0032I Strong branching done 406 times (24166 iterations), fathomed 2 nodes and fixed 0 variables\n",
      "Cbc0035I Maximum depth 22, 0 variables fixed on reduced cost\n",
      "Cuts at root node changed objective from 0 to 0.00589013\n",
      "Probing was tried 11 times and created 0 cuts of which 0 were active after adding rounds of cuts (0.005 seconds)\n",
      "Gomory was tried 11 times and created 3 cuts of which 0 were active after adding rounds of cuts (0.057 seconds)\n",
      "Knapsack was tried 11 times and created 0 cuts of which 0 were active after adding rounds of cuts (0.014 seconds)\n",
      "Clique was tried 11 times and created 0 cuts of which 0 were active after adding rounds of cuts (0.000 seconds)\n",
      "MixedIntegerRounding2 was tried 99 times and created 1768 cuts of which 0 were active after adding rounds of cuts (0.543 seconds)\n",
      "FlowCover was tried 11 times and created 0 cuts of which 0 were active after adding rounds of cuts (0.026 seconds)\n",
      "TwoMirCuts was tried 99 times and created 13 cuts of which 0 were active after adding rounds of cuts (0.178 seconds)\n",
      "ZeroHalf was tried 1 times and created 0 cuts of which 0 were active after adding rounds of cuts (0.000 seconds)\n",
      "\n",
      "Result - Optimal solution found\n",
      "\n",
      "Objective value:                0.04608468\n",
      "Enumerated nodes:               61\n",
      "Total iterations:               14823\n",
      "Time (CPU seconds):             19.47\n",
      "Time (Wallclock seconds):       20.41\n",
      "\n",
      "Total time (CPU seconds):       19.47   (Wallclock seconds):       20.41\n",
      "\n"
     ]
    },
    {
     "data": {
      "text/plain": [
       "Dict{Any, Any} with 11 entries:\n",
       "  :TargetIndexes      => [10]\n",
       "  :SolveTime          => 20.4111\n",
       "  :TotalTime          => 163.883\n",
       "  :Perturbation       => [noname noname … noname noname;;; noname noname … nona…\n",
       "  :PerturbedInput     => [noname noname … noname noname;;; noname noname … nona…\n",
       "  :TighteningApproach => \"mip\"\n",
       "  :PerturbationFamily => linf-norm-bounded-0.05\n",
       "  :SolveStatus        => OPTIMAL\n",
       "  :Model              => A JuMP Model…\n",
       "  :Output             => JuMP.AffExpr[-0.012063867412507534 noname + 0.66065257…\n",
       "  :PredictedIndex     => 8"
      ]
     },
     "execution_count": 12,
     "metadata": {},
     "output_type": "execute_result"
    }
   ],
   "source": [
    "target_label_index = 10\n",
    "d = MIPVerify.find_adversarial_example(\n",
    "    n1, \n",
    "    sample_image, \n",
    "    target_label_index, \n",
    "    Cbc.Optimizer, \n",
    "    Dict(),\n",
    "    norm_order = Inf,\n",
    "    pp=MIPVerify.LInfNormBoundedPerturbationFamily(0.05)\n",
    ")"
   ]
  },
  {
   "cell_type": "code",
   "execution_count": 13,
   "metadata": {},
   "outputs": [
    {
     "data": {
      "text/plain": [
       "1×28×28×1 Array{Float64, 4}:\n",
       "[:, :, 1, 1] =\n",
       " 0.0460847  0.0  0.0  0.0460847  0.0  …  0.0  0.0  0.0  0.0  0.0  0.0460847\n",
       "\n",
       "[:, :, 2, 1] =\n",
       " 0.0  0.0  0.0  0.0460847  0.0460847  0.0  …  0.0  0.0  0.0  0.0  0.0460847\n",
       "\n",
       "[:, :, 3, 1] =\n",
       " 0.0  0.0  0.0  0.0  0.0  0.0  0.0460847  …  0.0  0.0  0.0460847  0.0  0.0\n",
       "\n",
       ";;; … \n",
       "\n",
       "[:, :, 26, 1] =\n",
       " 0.0  0.0  0.0460847  0.0  0.0  0.0  0.0  …  0.0460847  0.0460847  0.0  0.0\n",
       "\n",
       "[:, :, 27, 1] =\n",
       " 0.0460847  0.0460847  0.0  0.0  0.0  0.0  …  0.0460847  0.0  0.0460847\n",
       "\n",
       "[:, :, 28, 1] =\n",
       " 0.0460847  0.0  0.0460847  0.0  0.0  0.0  …  0.0  0.0  0.0  0.0460847  0.0"
      ]
     },
     "execution_count": 13,
     "metadata": {},
     "output_type": "execute_result"
    }
   ],
   "source": [
    "using JuMP\n",
    "\n",
    "perturbed_sample_image = JuMP.value.(d[:PerturbedInput])"
   ]
  },
  {
   "cell_type": "markdown",
   "metadata": {},
   "source": [
    "As a sanity check, we feed the perturbed image into the neural net and inspect the activation in the final layer. We verify that the perturbed image does maximize the activation of the target label index, which is 10."
   ]
  },
  {
   "cell_type": "code",
   "execution_count": 14,
   "metadata": {},
   "outputs": [
    {
     "data": {
      "text/plain": [
       "10-element Vector{Float64}:\n",
       "  0.674945062874554\n",
       "  0.6179790360668571\n",
       "  0.39303215980893846\n",
       "  0.2965618596703594\n",
       "  0.24101053495483016\n",
       "  0.16060021203574187\n",
       "  0.5428526100447271\n",
       "  4.288351484573888\n",
       " -0.2264301823307634\n",
       "  4.288351484573882"
      ]
     },
     "execution_count": 14,
     "metadata": {},
     "output_type": "execute_result"
    }
   ],
   "source": [
    "perturbed_sample_image |> n1"
   ]
  },
  {
   "cell_type": "markdown",
   "metadata": {},
   "source": [
    "We visualize the perturbed image and compare it to the original image. Since we are minimizing the $L_infty$-norm, changes are made to many pixels but the change to each pixels is not very noticeable."
   ]
  },
  {
   "cell_type": "code",
   "execution_count": 15,
   "metadata": {},
   "outputs": [
    {
     "data": {
      "image/png": "[encoded data removed]",
      "text/plain": [
       "28×28 reinterpret(reshape, Gray{Float64}, ::Matrix{Float64}) with eltype Gray{Float64}:\n",
       " Gray{Float64}(0.0460847)  …  Gray{Float64}(0.0460847)\n",
       " Gray{Float64}(0.0)           Gray{Float64}(0.0)\n",
       " Gray{Float64}(0.0)           Gray{Float64}(0.0460847)\n",
       " Gray{Float64}(0.0460847)     Gray{Float64}(0.0)\n",
       " Gray{Float64}(0.0)           Gray{Float64}(0.0)\n",
       " Gray{Float64}(0.0460847)  …  Gray{Float64}(0.0)\n",
       " Gray{Float64}(0.0)           Gray{Float64}(0.0)\n",
       " Gray{Float64}(0.0460847)     Gray{Float64}(0.0460847)\n",
       " Gray{Float64}(0.0)           Gray{Float64}(0.0460847)\n",
       " Gray{Float64}(0.0460847)     Gray{Float64}(0.0)\n",
       " Gray{Float64}(0.0460847)  …  Gray{Float64}(0.0)\n",
       " Gray{Float64}(0.0)           Gray{Float64}(0.0)\n",
       " Gray{Float64}(0.0)           Gray{Float64}(0.0)\n",
       " ⋮                         ⋱  \n",
       " Gray{Float64}(0.0)           Gray{Float64}(0.0460847)\n",
       " Gray{Float64}(0.0)           Gray{Float64}(0.0460847)\n",
       " Gray{Float64}(0.0)           Gray{Float64}(0.0460847)\n",
       " Gray{Float64}(0.0)           Gray{Float64}(0.0460847)\n",
       " Gray{Float64}(0.0)        …  Gray{Float64}(0.0460847)\n",
       " Gray{Float64}(0.0460847)     Gray{Float64}(0.0)\n",
       " Gray{Float64}(0.0)           Gray{Float64}(0.0460847)\n",
       " Gray{Float64}(0.0)           Gray{Float64}(0.0)\n",
       " Gray{Float64}(0.0)           Gray{Float64}(0.0)\n",
       " Gray{Float64}(0.0)        …  Gray{Float64}(0.0)\n",
       " Gray{Float64}(0.0)           Gray{Float64}(0.0460847)\n",
       " Gray{Float64}(0.0460847)     Gray{Float64}(0.0)"
      ]
     },
     "execution_count": 15,
     "metadata": {},
     "output_type": "execute_result"
    }
   ],
   "source": [
    "colorview(Gray, perturbed_sample_image[1, :, :, 1])"
   ]
  },
  {
   "cell_type": "code",
   "execution_count": 16,
   "metadata": {},
   "outputs": [
    {
     "data": {
      "image/png": "[encoded data removed]",
      "text/plain": [
       "28×28 reinterpret(reshape, Gray{Float64}, ::Matrix{Float64}) with eltype Gray{Float64}:\n",
       " Gray{Float64}(0.0)  Gray{Float64}(0.0)  …  Gray{Float64}(0.0)\n",
       " Gray{Float64}(0.0)  Gray{Float64}(0.0)     Gray{Float64}(0.0)\n",
       " Gray{Float64}(0.0)  Gray{Float64}(0.0)     Gray{Float64}(0.0)\n",
       " Gray{Float64}(0.0)  Gray{Float64}(0.0)     Gray{Float64}(0.0)\n",
       " Gray{Float64}(0.0)  Gray{Float64}(0.0)     Gray{Float64}(0.0)\n",
       " Gray{Float64}(0.0)  Gray{Float64}(0.0)  …  Gray{Float64}(0.0)\n",
       " Gray{Float64}(0.0)  Gray{Float64}(0.0)     Gray{Float64}(0.0)\n",
       " Gray{Float64}(0.0)  Gray{Float64}(0.0)     Gray{Float64}(0.0)\n",
       " Gray{Float64}(0.0)  Gray{Float64}(0.0)     Gray{Float64}(0.0)\n",
       " Gray{Float64}(0.0)  Gray{Float64}(0.0)     Gray{Float64}(0.0)\n",
       " Gray{Float64}(0.0)  Gray{Float64}(0.0)  …  Gray{Float64}(0.0)\n",
       " Gray{Float64}(0.0)  Gray{Float64}(0.0)     Gray{Float64}(0.0)\n",
       " Gray{Float64}(0.0)  Gray{Float64}(0.0)     Gray{Float64}(0.0)\n",
       " ⋮                                       ⋱  \n",
       " Gray{Float64}(0.0)  Gray{Float64}(0.0)     Gray{Float64}(0.0)\n",
       " Gray{Float64}(0.0)  Gray{Float64}(0.0)     Gray{Float64}(0.0)\n",
       " Gray{Float64}(0.0)  Gray{Float64}(0.0)     Gray{Float64}(0.0)\n",
       " Gray{Float64}(0.0)  Gray{Float64}(0.0)     Gray{Float64}(0.0)\n",
       " Gray{Float64}(0.0)  Gray{Float64}(0.0)  …  Gray{Float64}(0.0)\n",
       " Gray{Float64}(0.0)  Gray{Float64}(0.0)     Gray{Float64}(0.0)\n",
       " Gray{Float64}(0.0)  Gray{Float64}(0.0)     Gray{Float64}(0.0)\n",
       " Gray{Float64}(0.0)  Gray{Float64}(0.0)     Gray{Float64}(0.0)\n",
       " Gray{Float64}(0.0)  Gray{Float64}(0.0)     Gray{Float64}(0.0)\n",
       " Gray{Float64}(0.0)  Gray{Float64}(0.0)  …  Gray{Float64}(0.0)\n",
       " Gray{Float64}(0.0)  Gray{Float64}(0.0)     Gray{Float64}(0.0)\n",
       " Gray{Float64}(0.0)  Gray{Float64}(0.0)     Gray{Float64}(0.0)"
      ]
     },
     "execution_count": 16,
     "metadata": {},
     "output_type": "execute_result"
    }
   ],
   "source": [
    "colorview(Gray, sample_image[1, :, :, 1])"
   ]
  },
  {
   "cell_type": "markdown",
   "metadata": {},
   "source": [
    "That concludes this quickstart! The next tutorial will introduce you to each of the layers, and show how you can import your own neural network parameters."
   ]
  }
 ],
 "metadata": {
  "kernelspec": {
   "display_name": "Julia 1.7.2",
   "language": "julia",
   "name": "julia-1.7"
  },
  "language_info": {
   "file_extension": ".jl",
   "mimetype": "application/julia",
   "name": "julia",
   "version": "1.7.2"
  }
 },
 "nbformat": 4,
 "nbformat_minor": 4
}
