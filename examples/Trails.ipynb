{
 "cells": [
  {
   "cell_type": "code",
   "execution_count": 4,
   "id": "6b0e934b-2290-4487-a99f-67fa1a490ba6",
   "metadata": {},
   "outputs": [
    {
     "data": {
      "text/plain": [
       "BinaryLinear(31 -> 3)"
      ]
     },
     "execution_count": 4,
     "metadata": {},
     "output_type": "execute_result"
    }
   ],
   "source": [
    "using MIPVerify\n",
    "using MAT\n",
    "using PyCall\n",
    "using ProgressMeter\n",
    "py\"\"\"fc0_weight = [[ 0.1707, -0.0302,  0.0161,  0.1356, -0.1352,  0.1885,  0.0203, -0.0184,\n",
    "         -0.0076,  0.0186,  0.1101, -0.1153,  0.1739, -0.2012,  0.0168,  0.0299,\n",
    "         -0.0305, -0.0379, -0.0477,  0.1191, -0.0157, -0.0233,  0.0201, -0.0316,\n",
    "         -0.0048,  0.0726,  0.1877,  0.1767, -0.1428,  0.1927,  0.1212],\n",
    "        [ 0.1247,  0.0641, -0.2784, -0.2317, -0.1759,  0.1099, -0.0093,  0.1972,\n",
    "          0.0068,  0.1691, -0.1538,  0.2999, -0.3243,  0.0016,  0.0719, -0.1651,\n",
    "          0.0887, -0.0736,  0.1284, -0.2500, -0.1747, -0.0085, -0.0043,  0.1399,\n",
    "          0.0938, -0.0844, -0.2148,  0.0534, -0.0094, -0.2103,  0.0619],\n",
    "        [ 0.0513,  0.1101, -0.2102, -0.0749, -0.0802, -0.0455, -0.1288, -0.0427,\n",
    "          0.2257, -0.0862,  0.0386,  0.1728, -0.2819,  0.1703,  0.0418,  0.0475,\n",
    "         -0.1662,  0.0898,  0.0009, -0.2110, -0.0634, -0.1638,  0.1760, -0.1957,\n",
    "         -0.2629,  0.0767, -0.1073,  0.0420, -0.0087, -0.2337, -0.0340]]\"\"\"\n",
    "fc0_weight = py\"fc0_weight\"\n",
    "fc0_weight= transpose(fc0_weight)\n",
    "fc0_weight = convert(Array, fc0_weight)\n",
    "fc0_manual = BinaryLinear(fc0_weight,ones(3))"
   ]
  },
  {
   "cell_type": "code",
   "execution_count": 5,
   "id": "b6c68b04-7e90-4b85-8234-758ebf0c4328",
   "metadata": {},
   "outputs": [
    {
     "data": {
      "text/plain": [
       "BinaryLinear(3 -> 3)"
      ]
     },
     "execution_count": 5,
     "metadata": {},
     "output_type": "execute_result"
    }
   ],
   "source": [
    "py\"\"\"fc1_weight = [[-0.0359, -0.2975, -0.2090],\n",
    "        [ 0.0145,  0.1269, -0.1844],\n",
    "        [ 0.0047,  0.4206, -0.1208]]\"\"\"\n",
    "fc1_weight = py\"fc1_weight\"\n",
    "fc1_weight = transpose(fc1_weight)\n",
    "fc1_weight = convert(Array, fc1_weight)\n",
    "fc1_manual = BinaryLinear(fc1_weight,ones(3))"
   ]
  },
  {
   "cell_type": "code",
   "execution_count": 6,
   "id": "a9cdfdf4-ead8-49b5-b883-ecedc9c3fb18",
   "metadata": {},
   "outputs": [
    {
     "data": {
      "text/plain": [
       "BinaryLinear(3 -> 1)"
      ]
     },
     "execution_count": 6,
     "metadata": {},
     "output_type": "execute_result"
    }
   ],
   "source": [
    "py\"\"\"fc2_weight = [[ 0.0290,  0.0645, -0.2633]]\n",
    "\"\"\"\n",
    "fc2_weight = py\"fc2_weight\"\n",
    "fc2_weight = transpose(fc2_weight)\n",
    "fc2_weight = convert(Array, fc2_weight)\n",
    "fc2_manual = BinaryLinear(fc2_weight,ones(1))"
   ]
  },
  {
   "cell_type": "code",
   "execution_count": 30,
   "id": "b21b5011-e15c-4410-bb7e-5b329a191b19",
   "metadata": {},
   "outputs": [
    {
     "data": {
      "text/plain": [
       "sequential net example\n",
       "  (1) BinaryLinear(31 -> 3)\n",
       "  (2) Binarize()\n",
       "  (3) BinaryLinear(3 -> 3)\n",
       "  (4) Binarize()\n",
       "  (5) BinaryLinear(3 -> 1)\n",
       "  (6) Binarize()\n"
      ]
     },
     "execution_count": 30,
     "metadata": {},
     "output_type": "execute_result"
    }
   ],
   "source": [
    "n1 = Sequential([\n",
    "        fc0_manual,\n",
    "        Binarize(),\n",
    "        fc1_manual,\n",
    "        Binarize(),\n",
    "        fc2_manual,\n",
    "        Binarize(),\n",
    "    ],\"example\")"
   ]
  },
  {
   "cell_type": "code",
   "execution_count": 31,
   "id": "3233d9b2-06a3-4208-ae09-b7cf338508bb",
   "metadata": {},
   "outputs": [],
   "source": [
    "using PyCall\n",
    "py\"\"\"import numpy as np\n",
    "test_image = np.loadtxt(\"test_images.txt\")\n",
    "test_label = np.loadtxt(\"test_label.txt\")\n",
    "\"\"\"\n",
    "test_image = py\"test_image\";\n",
    "test_label = py\"test_label\";"
   ]
  },
  {
   "cell_type": "code",
   "execution_count": 34,
   "id": "4eb1892e-de66-4d63-8a9d-edf3af2b6098",
   "metadata": {},
   "outputs": [
    {
     "data": {
      "text/plain": [
       "frac_correct (generic function with 1 method)"
      ]
     },
     "execution_count": 34,
     "metadata": {},
     "output_type": "execute_result"
    }
   ],
   "source": [
    "function toBoolean(x)\n",
    "    if x[1] == -1\n",
    "        return 0\n",
    "    else \n",
    "        return 1\n",
    "    end\n",
    "end\n",
    "function frac_correct(nn, image, label)\n",
    "    num_correct = 0.0;\n",
    "    num_samples = 277;\n",
    "    for sample_index in 1:num_samples\n",
    "        input = test_image[sample_index,:];\n",
    "        actual_label = test_label[sample_index,:][1];\n",
    "        predicted_label = input |> n1 ;\n",
    "        if actual_label == predicted_label\n",
    "            num_correct += 1\n",
    "        end\n",
    "        # println(predicted_label)\n",
    "    end\n",
    "    return num_correct / num_samples\n",
    "end"
   ]
  },
  {
   "cell_type": "code",
   "execution_count": 35,
   "id": "3563d43a-6b0b-4170-b6fb-831531069dec",
   "metadata": {},
   "outputs": [
    {
     "data": {
      "text/plain": [
       "0.0"
      ]
     },
     "execution_count": 35,
     "metadata": {},
     "output_type": "execute_result"
    }
   ],
   "source": [
    "frac_correct(n1, test_image, test_label)"
   ]
  },
  {
   "cell_type": "code",
   "execution_count": 33,
   "id": "ff02c7d0-3158-4164-85a8-3fe5b5468bcd",
   "metadata": {},
   "outputs": [
    {
     "name": "stdout",
     "output_type": "stream",
     "text": [
      "[1.0]\n",
      "[1.0]\n",
      "[1.0]\n",
      "[1.0]\n",
      "[1.0]\n",
      "[1.0]\n",
      "[1.0]\n",
      "[1.0]\n",
      "[1.0]\n",
      "[1.0]\n",
      "[1.0]\n",
      "[1.0]\n",
      "[1.0]\n",
      "[1.0]\n",
      "[1.0]\n",
      "[1.0]\n",
      "[1.0]\n",
      "[1.0]\n",
      "[1.0]\n",
      "[1.0]\n",
      "[1.0]\n",
      "[1.0]\n",
      "[1.0]\n",
      "[1.0]\n",
      "[1.0]\n",
      "[1.0]\n",
      "[1.0]\n",
      "[1.0]\n",
      "[1.0]\n",
      "[1.0]\n",
      "[1.0]\n",
      "[1.0]\n",
      "[1.0]\n",
      "[1.0]\n",
      "[1.0]\n",
      "[1.0]\n",
      "[1.0]\n",
      "[1.0]\n",
      "[1.0]\n",
      "[1.0]\n",
      "[1.0]\n",
      "[1.0]\n",
      "[1.0]\n",
      "[1.0]\n",
      "[1.0]\n",
      "[1.0]\n",
      "[1.0]\n",
      "[1.0]\n",
      "[1.0]\n",
      "[1.0]\n",
      "[1.0]\n",
      "[1.0]\n",
      "[1.0]\n",
      "[1.0]\n",
      "[1.0]\n",
      "[1.0]\n",
      "[1.0]\n",
      "[1.0]\n",
      "[1.0]\n",
      "[1.0]\n",
      "[1.0]\n",
      "[1.0]\n",
      "[1.0]\n",
      "[1.0]\n",
      "[1.0]\n",
      "[1.0]\n",
      "[1.0]\n",
      "[1.0]\n",
      "[1.0]\n",
      "[1.0]\n",
      "[1.0]\n",
      "[1.0]\n",
      "[1.0]\n",
      "[1.0]\n",
      "[1.0]\n",
      "[1.0]\n",
      "[1.0]\n",
      "[1.0]\n",
      "[1.0]\n",
      "[1.0]\n",
      "[1.0]\n",
      "[1.0]\n",
      "[1.0]\n",
      "[1.0]\n",
      "[1.0]\n",
      "[1.0]\n",
      "[1.0]\n",
      "[1.0]\n",
      "[1.0]\n",
      "[1.0]\n",
      "[1.0]\n",
      "[1.0]\n",
      "[1.0]\n",
      "[1.0]\n",
      "[1.0]\n",
      "[1.0]\n",
      "[1.0]\n",
      "[1.0]\n",
      "[1.0]\n",
      "[1.0]\n",
      "[1.0]\n",
      "[1.0]\n",
      "[1.0]\n",
      "[1.0]\n",
      "[1.0]\n",
      "[1.0]\n",
      "[1.0]\n",
      "[1.0]\n",
      "[1.0]\n",
      "[1.0]\n",
      "[1.0]\n",
      "[1.0]\n",
      "[1.0]\n",
      "[1.0]\n",
      "[1.0]\n",
      "[1.0]\n",
      "[1.0]\n",
      "[1.0]\n",
      "[1.0]\n",
      "[1.0]\n",
      "[1.0]\n",
      "[1.0]\n",
      "[1.0]\n",
      "[1.0]\n",
      "[1.0]\n",
      "[1.0]\n",
      "[1.0]\n",
      "[1.0]\n",
      "[1.0]\n",
      "[1.0]\n",
      "[1.0]\n",
      "[1.0]\n",
      "[1.0]\n",
      "[1.0]\n",
      "[1.0]\n",
      "[1.0]\n",
      "[1.0]\n",
      "[1.0]\n",
      "[1.0]\n",
      "[1.0]\n",
      "[1.0]\n",
      "[1.0]\n",
      "[1.0]\n",
      "[1.0]\n",
      "[1.0]\n",
      "[1.0]\n",
      "[1.0]\n",
      "[1.0]\n",
      "[1.0]\n",
      "[1.0]\n",
      "[1.0]\n",
      "[1.0]\n",
      "[1.0]\n",
      "[1.0]\n",
      "[1.0]\n",
      "[1.0]\n",
      "[1.0]\n",
      "[1.0]\n",
      "[1.0]\n",
      "[1.0]\n",
      "[1.0]\n",
      "[1.0]\n",
      "[1.0]\n",
      "[1.0]\n",
      "[1.0]\n",
      "[1.0]\n",
      "[1.0]\n",
      "[1.0]\n",
      "[1.0]\n",
      "[1.0]\n",
      "[1.0]\n",
      "[1.0]\n",
      "[1.0]\n",
      "[1.0]\n",
      "[1.0]\n",
      "[1.0]\n",
      "[1.0]\n",
      "[1.0]\n",
      "[1.0]\n",
      "[1.0]\n",
      "[1.0]\n",
      "[1.0]\n",
      "[1.0]\n",
      "[1.0]\n",
      "[1.0]\n",
      "[1.0]\n",
      "[1.0]\n",
      "[1.0]\n",
      "[1.0]\n",
      "[1.0]\n",
      "[1.0]\n",
      "[1.0]\n",
      "[1.0]\n",
      "[1.0]\n",
      "[1.0]\n",
      "[1.0]\n",
      "[1.0]\n",
      "[1.0]\n",
      "[1.0]\n",
      "[1.0]\n",
      "[1.0]\n",
      "[1.0]\n",
      "[1.0]\n",
      "[1.0]\n",
      "[1.0]\n",
      "[1.0]\n",
      "[1.0]\n",
      "[1.0]\n",
      "[1.0]\n",
      "[1.0]\n",
      "[1.0]\n",
      "[1.0]\n",
      "[1.0]\n",
      "[1.0]\n",
      "[1.0]\n",
      "[1.0]\n",
      "[1.0]\n",
      "[1.0]\n",
      "[1.0]\n",
      "[1.0]\n",
      "[1.0]\n",
      "[1.0]\n",
      "[1.0]\n",
      "[1.0]\n",
      "[1.0]\n",
      "[1.0]\n",
      "[1.0]\n",
      "[1.0]\n",
      "[1.0]\n",
      "[1.0]\n",
      "[1.0]\n",
      "[1.0]\n",
      "[1.0]\n",
      "[1.0]\n",
      "[1.0]\n",
      "[1.0]\n",
      "[1.0]\n",
      "[1.0]\n",
      "[1.0]\n",
      "[1.0]\n",
      "[1.0]\n",
      "[1.0]\n",
      "[1.0]\n",
      "[1.0]\n",
      "[1.0]\n",
      "[1.0]\n",
      "[1.0]\n",
      "[1.0]\n",
      "[1.0]\n",
      "[1.0]\n",
      "[1.0]\n",
      "[1.0]\n",
      "[1.0]\n",
      "[1.0]\n",
      "[1.0]\n",
      "[1.0]\n",
      "[1.0]\n",
      "[1.0]\n",
      "[1.0]\n",
      "[1.0]\n",
      "[1.0]\n",
      "[1.0]\n",
      "[1.0]\n",
      "[1.0]\n",
      "[1.0]\n",
      "[1.0]\n",
      "[1.0]\n",
      "[1.0]\n",
      "[1.0]\n",
      "[1.0]\n",
      "[1.0]\n",
      "[1.0]\n",
      "[1.0]\n",
      "[1.0]\n",
      "[1.0]\n",
      "[1.0]\n",
      "[1.0]\n"
     ]
    },
    {
     "data": {
      "text/plain": [
       "0.0"
      ]
     },
     "execution_count": 33,
     "metadata": {},
     "output_type": "execute_result"
    }
   ],
   "source": [
    "frac_correct(n1, test_image, test_label)"
   ]
  },
  {
   "cell_type": "code",
   "execution_count": 18,
   "id": "a51e9cf9-1f46-4d8d-b52a-9bc709a991ca",
   "metadata": {},
   "outputs": [
    {
     "data": {
      "text/plain": [
       "31×3 Matrix{Float64}:\n",
       " 1.0  1.0  1.0\n",
       " 0.0  1.0  1.0\n",
       " 1.0  0.0  0.0\n",
       " 1.0  0.0  0.0\n",
       " 0.0  0.0  0.0\n",
       " 1.0  1.0  0.0\n",
       " 1.0  0.0  0.0\n",
       " 0.0  1.0  0.0\n",
       " 0.0  1.0  1.0\n",
       " 1.0  1.0  0.0\n",
       " 1.0  0.0  1.0\n",
       " 0.0  1.0  1.0\n",
       " 1.0  0.0  0.0\n",
       " ⋮         \n",
       " 1.0  0.0  0.0\n",
       " 0.0  0.0  0.0\n",
       " 0.0  0.0  0.0\n",
       " 1.0  0.0  1.0\n",
       " 0.0  1.0  0.0\n",
       " 0.0  1.0  0.0\n",
       " 1.0  0.0  1.0\n",
       " 1.0  0.0  0.0\n",
       " 1.0  1.0  1.0\n",
       " 0.0  0.0  0.0\n",
       " 1.0  0.0  0.0\n",
       " 1.0  1.0  0.0"
      ]
     },
     "execution_count": 18,
     "metadata": {},
     "output_type": "execute_result"
    }
   ],
   "source": [
    "fc0_weight"
   ]
  },
  {
   "cell_type": "code",
   "execution_count": 23,
   "id": "3d5f3e17-7ec9-401c-8610-37f3ae5092a0",
   "metadata": {},
   "outputs": [
    {
     "data": {
      "text/plain": [
       "31-element Vector{Float64}:\n",
       " -1.0\n",
       " -1.0\n",
       " -1.0\n",
       " -1.0\n",
       " -1.0\n",
       " -1.0\n",
       " -1.0\n",
       " -1.0\n",
       " -1.0\n",
       " -1.0\n",
       " -1.0\n",
       " -1.0\n",
       "  1.0\n",
       "  ⋮\n",
       " -1.0\n",
       " -1.0\n",
       " -1.0\n",
       " -1.0\n",
       " -1.0\n",
       " -1.0\n",
       " -1.0\n",
       " -1.0\n",
       " -1.0\n",
       " -1.0\n",
       " -1.0\n",
       " -1.0"
      ]
     },
     "execution_count": 23,
     "metadata": {},
     "output_type": "execute_result"
    }
   ],
   "source": [
    "test_image[1,:]"
   ]
  },
  {
   "cell_type": "code",
   "execution_count": null,
   "id": "8d10e8ba-d0ec-42e0-8563-ac25266d4924",
   "metadata": {},
   "outputs": [
    {
     "data": {
      "text/plain": [
       "277-element Vector{Float64}:\n",
       " 1.0\n",
       " 0.0\n",
       " 1.0\n",
       " 0.0\n",
       " 0.0\n",
       " 1.0\n",
       " 0.0\n",
       " 0.0\n",
       " 1.0\n",
       " 0.0\n",
       " 0.0\n",
       " 0.0\n",
       " 0.0\n",
       " ⋮\n",
       " 0.0\n",
       " 0.0\n",
       " 0.0\n",
       " 0.0\n",
       " 0.0\n",
       " 0.0\n",
       " 0.0\n",
       " 0.0\n",
       " 0.0\n",
       " 0.0\n",
       " 0.0\n",
       " 0.0"
      ]
     },
     "execution_count": 24,
     "metadata": {},
     "output_type": "execute_result"
    }
   ],
   "source": [
    "test"
   ]
  }
 ],
 "metadata": {
  "kernelspec": {
   "display_name": "Julia 1.7.2",
   "language": "julia",
   "name": "julia-1.7"
  },
  "language_info": {
   "file_extension": ".jl",
   "mimetype": "application/julia",
   "name": "julia",
   "version": "1.7.2"
  }
 },
 "nbformat": 4,
 "nbformat_minor": 5
}
